{
  "nbformat": 4,
  "nbformat_minor": 0,
  "metadata": {
    "colab": {
      "name": "week3_read_file.ipynb",
      "provenance": [],
      "collapsed_sections": [],
      "mount_file_id": "1l1luGGD_FujGCbS847736uCvicI_yqnR",
      "authorship_tag": "ABX9TyM3vcLEivFQumHY4iMm1B08",
      "include_colab_link": true
    },
    "kernelspec": {
      "name": "python3",
      "display_name": "Python 3"
    },
    "language_info": {
      "name": "python"
    }
  },
  "cells": [
    {
      "cell_type": "markdown",
      "metadata": {
        "id": "view-in-github",
        "colab_type": "text"
      },
      "source": [
        "<a href=\"https://colab.research.google.com/github/watchara-p/COS3302/blob/main/week3_read_file.ipynb\" target=\"_parent\"><img src=\"https://colab.research.google.com/assets/colab-badge.svg\" alt=\"Open In Colab\"/></a>"
      ]
    },
    {
      "cell_type": "code",
      "execution_count": null,
      "metadata": {
        "id": "1NOJIMZKma7m"
      },
      "outputs": [],
      "source": [
        "import pandas as pd"
      ]
    },
    {
      "cell_type": "code",
      "source": [
        "# Mount google drive\n",
        "from google.colab import drive\n",
        "ROOT = \"/content/GDrive\"\n",
        "drive.mount(ROOT)"
      ],
      "metadata": {
        "colab": {
          "base_uri": "https://localhost:8080/"
        },
        "id": "40Poq93Imu6P",
        "outputId": "b39cbdbb-40ed-4913-8802-3103e2543607"
      },
      "execution_count": null,
      "outputs": [
        {
          "output_type": "stream",
          "name": "stdout",
          "text": [
            "Mounted at /content/GDrive\n"
          ]
        }
      ]
    },
    {
      "cell_type": "code",
      "source": [
        "# Read excel file\n",
        "excel_file = \"/content/GDrive/MyDrive/COS3302-Term1-65/week3/courses.XLSX\"\n",
        "df = pd.read_excel(excel_file)\n",
        "print(df)"
      ],
      "metadata": {
        "colab": {
          "base_uri": "https://localhost:8080/"
        },
        "id": "bOBEMZanoni9",
        "outputId": "7c9bc6f7-69ae-4dbe-d1e6-5537b7a042e4"
      },
      "execution_count": null,
      "outputs": [
        {
          "output_type": "stream",
          "name": "stdout",
          "text": [
            "  Courses     Fee Duration   Discount \n",
            "0    Spark  25000   50 Days       2000\n",
            "1   Pandas  20000   35 Days       1000\n",
            "2     Java  15000       NaN        800\n",
            "3   Python  15000   30 Days        500\n",
            "4      PHP  18000   30 Days        800\n"
          ]
        }
      ]
    },
    {
      "cell_type": "code",
      "source": [
        "# Read excel by considering first row as data\n",
        "columns = ['courses', 'course_feee', 'course_duration', 'course_discount']\n",
        "df2 = pd.read_excel(excel_file, header=0, names=columns)\n",
        "print(df2)"
      ],
      "metadata": {
        "colab": {
          "base_uri": "https://localhost:8080/"
        },
        "id": "B7CIZItapRb8",
        "outputId": "97ecefe0-c6ae-42e5-f3f1-8f200cfef423"
      },
      "execution_count": null,
      "outputs": [
        {
          "output_type": "stream",
          "name": "stdout",
          "text": [
            "  courses  course_feee course_duration  course_discount\n",
            "0   Spark        25000         50 Days             2000\n",
            "1  Pandas        20000         35 Days             1000\n",
            "2    Java        15000             NaN              800\n",
            "3  Python        15000         30 Days              500\n",
            "4     PHP        18000         30 Days              800\n"
          ]
        }
      ]
    },
    {
      "cell_type": "code",
      "source": [
        "# Read excel by setting column as index\n",
        "df2 = pd.read_excel(excel_file, index_col=0)\n",
        "print(df2)"
      ],
      "metadata": {
        "colab": {
          "base_uri": "https://localhost:8080/"
        },
        "id": "MZ0CPKQmqpvX",
        "outputId": "16a1bfa8-c695-41d9-cbb3-f8b9ce40d5f3"
      },
      "execution_count": null,
      "outputs": [
        {
          "output_type": "stream",
          "name": "stdout",
          "text": [
            "            Fee Duration   Discount \n",
            "Courses                             \n",
            "Spark     25000   50 Days       2000\n",
            "Pandas    20000   35 Days       1000\n",
            "Java      15000       NaN        800\n",
            "Python    15000   30 Days        500\n",
            "PHP       18000   30 Days        800\n"
          ]
        }
      ]
    },
    {
      "cell_type": "code",
      "source": [
        "# Read specific excel sheet\n",
        "df = pd.read_excel(excel_file, sheet_name='Sheet1')\n",
        "print(df)"
      ],
      "metadata": {
        "colab": {
          "base_uri": "https://localhost:8080/"
        },
        "id": "liSpv8qprVFP",
        "outputId": "633cebfd-c7a3-4c6e-9bb5-226fca5914c8"
      },
      "execution_count": null,
      "outputs": [
        {
          "output_type": "stream",
          "name": "stdout",
          "text": [
            "  Courses     Fee Duration   Discount \n",
            "0    Spark  25000   50 Days       2000\n",
            "1   Pandas  20000   35 Days       1000\n",
            "2     Java  15000       NaN        800\n",
            "3   Python  15000   30 Days        500\n",
            "4      PHP  18000   30 Days        800\n"
          ]
        }
      ]
    },
    {
      "cell_type": "code",
      "source": [
        "# Read Multiple sheets\n",
        "dict_df = pd.read_excel(excel_file, sheet_name=['Sheet1', 'Sheet2'])"
      ],
      "metadata": {
        "id": "wGbRtvuwrcrO"
      },
      "execution_count": null,
      "outputs": []
    },
    {
      "cell_type": "code",
      "source": [
        "# Get DataFrame from Dict\n",
        "course_df = dict_df .get('Sheet1')\n",
        "course_updated_df = dict_df.get('Sheet2')"
      ],
      "metadata": {
        "id": "HmVckFRRrkv0"
      },
      "execution_count": null,
      "outputs": []
    },
    {
      "cell_type": "code",
      "source": [
        "# Print DataFrame's\n",
        "print(course_df)\n",
        "print(course_updated_df)"
      ],
      "metadata": {
        "colab": {
          "base_uri": "https://localhost:8080/"
        },
        "id": "OuRrEXqdrqlm",
        "outputId": "5b3aafda-a5ca-4b1f-d5cb-f719bf13c51f"
      },
      "execution_count": null,
      "outputs": [
        {
          "output_type": "stream",
          "name": "stdout",
          "text": [
            "  Courses     Fee Duration   Discount \n",
            "0    Spark  25000   50 Days       2000\n",
            "1   Pandas  20000   35 Days       1000\n",
            "2     Java  15000       NaN        800\n",
            "3   Python  15000   30 Days        500\n",
            "4      PHP  18000   30 Days        800\n",
            "  Courses     Fee Duration   Discount \n",
            "0    Spark  25000   50 Days       2000\n",
            "1   Pandas  20000   35 Days       1000\n",
            "2     Java  15000   30 Days        700\n",
            "3   Python  15000   30 Days        500\n",
            "4      PHP  18000   30 Days        800\n"
          ]
        }
      ]
    },
    {
      "cell_type": "code",
      "source": [
        "# Read excel by skipping columns\n",
        "df2 = pd.read_excel(excel_file, usecols=[0, 2])\n",
        "print(df2)"
      ],
      "metadata": {
        "colab": {
          "base_uri": "https://localhost:8080/"
        },
        "id": "Hxu8em3ErupJ",
        "outputId": "7fb5249a-3c5a-4518-bae0-e7b6eaf5939a"
      },
      "execution_count": null,
      "outputs": [
        {
          "output_type": "stream",
          "name": "stdout",
          "text": [
            "  Courses  Duration \n",
            "0    Spark   50 Days\n",
            "1   Pandas   35 Days\n",
            "2     Java       NaN\n",
            "3   Python   30 Days\n",
            "4      PHP   30 Days\n"
          ]
        }
      ]
    },
    {
      "cell_type": "code",
      "source": [
        "# Skip columns by range\n",
        "df2 = pd.read_excel(excel_file, usecols='B:D')\n",
        "print(df2)"
      ],
      "metadata": {
        "colab": {
          "base_uri": "https://localhost:8080/"
        },
        "id": "LkTkYeYKr238",
        "outputId": "671ef699-7bbf-4079-f093-3ad30d77eb0f"
      },
      "execution_count": null,
      "outputs": [
        {
          "output_type": "stream",
          "name": "stdout",
          "text": [
            "     Fee Duration   Discount \n",
            "0  25000   50 Days       2000\n",
            "1  20000   35 Days       1000\n",
            "2  15000       NaN        800\n",
            "3  15000   30 Days        500\n",
            "4  18000   30 Days        800\n"
          ]
        }
      ]
    },
    {
      "cell_type": "code",
      "source": [
        "# Read excel file by skipping rows\n",
        "df2 = pd.read_excel(excel_file, skiprows=2)\n",
        "print(df2)"
      ],
      "metadata": {
        "colab": {
          "base_uri": "https://localhost:8080/"
        },
        "id": "a33U5ZXZsArq",
        "outputId": "60e5bca0-bbfd-44f9-a96f-9dd282793c8c"
      },
      "execution_count": null,
      "outputs": [
        {
          "output_type": "stream",
          "name": "stdout",
          "text": [
            "   Pandas  20000  35 Days  1000\n",
            "0    Java  15000      NaN   800\n",
            "1  Python  15000  30 Days   500\n",
            "2     PHP  18000  30 Days   800\n"
          ]
        }
      ]
    },
    {
      "cell_type": "code",
      "source": [
        "# Using skiprows to skip rows\n",
        "df2 = pd.read_excel(excel_file, skiprows=[1, 3])\n",
        "print(df2)"
      ],
      "metadata": {
        "colab": {
          "base_uri": "https://localhost:8080/"
        },
        "id": "UCtjJj0isVTq",
        "outputId": "398696aa-54a5-4fa9-dc9d-d481e982f8b0"
      },
      "execution_count": null,
      "outputs": [
        {
          "output_type": "stream",
          "name": "stdout",
          "text": [
            "  Courses     Fee Duration   Discount \n",
            "0   Pandas  20000   35 Days       1000\n",
            "1   Python  15000   30 Days        500\n",
            "2      PHP  18000   30 Days        800\n"
          ]
        }
      ]
    },
    {
      "cell_type": "code",
      "source": [
        "# Using skiprows with lambda\n",
        "df2 = pd.read_excel(excel_file, skiprows=lambda x: x in [1, 3])\n",
        "print(df2)"
      ],
      "metadata": {
        "colab": {
          "base_uri": "https://localhost:8080/"
        },
        "id": "4CE18S3rse4u",
        "outputId": "53e56847-161b-48f2-c7c5-075ea8c5955a"
      },
      "execution_count": null,
      "outputs": [
        {
          "output_type": "stream",
          "name": "stdout",
          "text": [
            "  Courses     Fee Duration   Discount \n",
            "0   Pandas  20000   35 Days       1000\n",
            "1   Python  15000   30 Days        500\n",
            "2      PHP  18000   30 Days        800\n"
          ]
        }
      ]
    },
    {
      "cell_type": "code",
      "source": [
        "# Read JSON from string\n",
        "json_str = '{\"Courses\":{\"r1\":\"Spark\"},\"Fee\":{\"r1\":\"25000\"},\"Duration\":{\"r1\":\"50 Days\"}}'\n",
        "df = pd.read_json(json_str)\n",
        "print(df)"
      ],
      "metadata": {
        "colab": {
          "base_uri": "https://localhost:8080/"
        },
        "id": "FKgyC0PJsmEy",
        "outputId": "8bd0a1b8-872f-4847-9326-a9e592664191"
      },
      "execution_count": null,
      "outputs": [
        {
          "output_type": "stream",
          "name": "stdout",
          "text": [
            "   Courses    Fee Duration\n",
            "r1   Spark  25000  50 Days\n"
          ]
        }
      ]
    },
    {
      "cell_type": "code",
      "source": [
        "# Read JSON from string\n",
        "json_str = '[{\"Courses\":\"Spark\",\"Fee\":\"25000\",\"Duration\":\"50 Days\",\"Discount\":\"2000\"}]'\n",
        "df = pd.read_json(json_str, orient='records')\n",
        "print(df)"
      ],
      "metadata": {
        "colab": {
          "base_uri": "https://localhost:8080/"
        },
        "id": "sRF_uUSfszh2",
        "outputId": "1865824a-b1d7-4909-b6e9-70c7e63057d0"
      },
      "execution_count": null,
      "outputs": [
        {
          "output_type": "stream",
          "name": "stdout",
          "text": [
            "  Courses    Fee Duration  Discount\n",
            "0   Spark  25000  50 Days      2000\n"
          ]
        }
      ]
    },
    {
      "cell_type": "code",
      "source": [
        "# Read JSON file\n",
        "json_file1 = \"/content/GDrive/MyDrive/COS3302-Term1-65/week3/courses_data.json\"\n",
        "df = pd.read_json(json_file1)\n",
        "print(df)"
      ],
      "metadata": {
        "colab": {
          "base_uri": "https://localhost:8080/"
        },
        "id": "A6g6nwsUs4sx",
        "outputId": "d2290fe1-641c-4207-a1f8-970d983c394b"
      },
      "execution_count": null,
      "outputs": [
        {
          "output_type": "stream",
          "name": "stdout",
          "text": [
            "  Courses    Fee Duration\n",
            "0   Spark  25000  50 Days\n",
            "1  Pandas  20000  35 Days\n",
            "2    Java  15000         \n"
          ]
        }
      ]
    },
    {
      "cell_type": "code",
      "source": [
        "# Read JSON file with records orient\n",
        "json_file2 = \"/content/GDrive/MyDrive/COS3302-Term1-65/week3/courses.json\"\n",
        "df = pd.read_json(json_file2, orient='records')\n",
        "print(df)"
      ],
      "metadata": {
        "colab": {
          "base_uri": "https://localhost:8080/"
        },
        "id": "PULUtKgYtHO5",
        "outputId": "e1ef6418-fc5f-43db-e136-091feadd6832"
      },
      "execution_count": null,
      "outputs": [
        {
          "output_type": "stream",
          "name": "stdout",
          "text": [
            "  Courses    Fee Duration  Discount\n",
            "0   Spark  25000  50 Days      2000\n",
            "1  Pandas  20000  35 Days      1000\n",
            "2    Java  15000                800\n"
          ]
        }
      ]
    },
    {
      "cell_type": "code",
      "source": [
        "# 1.Read csv file\n",
        "csv_file = \"/content/GDrive/MyDrive/COS3302-Term1-65/week3/courses.csv\"\n",
        "df = pd.read_csv(csv_file)\n",
        "print(df)\n",
        "print('\\n')\n",
        "print(df['Spark'])"
      ],
      "metadata": {
        "colab": {
          "base_uri": "https://localhost:8080/"
        },
        "id": "TT_WBJRAuH4E",
        "outputId": "5915b351-b7f5-476b-88a0-6c33cee6ac77"
      },
      "execution_count": null,
      "outputs": [
        {
          "output_type": "stream",
          "name": "stdout",
          "text": [
            "    Spark  25000  50 Days  2000\n",
            "0  Pandas  20000  35 Days  1000\n",
            "1    Java  15000      NaN   800\n",
            "2  Python  15000  30 Days   500\n",
            "3     PHP  18000  30 Days   800\n",
            "\n",
            "\n",
            "0    Pandas\n",
            "1      Java\n",
            "2    Python\n",
            "3       PHP\n",
            "Name: Spark, dtype: object\n"
          ]
        }
      ]
    },
    {
      "cell_type": "code",
      "source": [
        "# 2.Read csv file without column names\n",
        "df = pd.read_csv(csv_file, header=None)\n",
        "print(df)"
      ],
      "metadata": {
        "id": "D3g_7anJnWjV",
        "colab": {
          "base_uri": "https://localhost:8080/"
        },
        "outputId": "60917bdc-ec98-479c-dcbe-f38b28ec6fed"
      },
      "execution_count": null,
      "outputs": [
        {
          "output_type": "stream",
          "name": "stdout",
          "text": [
            "        0      1        2     3\n",
            "0   Spark  25000  50 Days  2000\n",
            "1  Pandas  20000  35 Days  1000\n",
            "2    Java  15000      NaN   800\n",
            "3  Python  15000  30 Days   500\n",
            "4     PHP  18000  30 Days   800\n"
          ]
        }
      ]
    },
    {
      "cell_type": "code",
      "source": [
        "# 3.Read csv file by custom column name\n",
        "df = pd.read_csv(csv_file, names=['Courses', 'Fee', 'Duration', 'Discount'])\n",
        "print(df)"
      ],
      "metadata": {
        "colab": {
          "base_uri": "https://localhost:8080/"
        },
        "id": "7NcuVz1cujau",
        "outputId": "3962a285-312a-4d6e-e568-6df510b92d25"
      },
      "execution_count": null,
      "outputs": [
        {
          "output_type": "stream",
          "name": "stdout",
          "text": [
            "  Courses    Fee Duration  Discount\n",
            "0   Spark  25000  50 Days      2000\n",
            "1  Pandas  20000  35 Days      1000\n",
            "2    Java  15000      NaN       800\n",
            "3  Python  15000  30 Days       500\n",
            "4     PHP  18000  30 Days       800\n"
          ]
        }
      ]
    },
    {
      "cell_type": "code",
      "source": [
        "# 4.Read csv file by set columns to be used as the index\n",
        "df = pd.read_csv(csv_file, header=None, index_col=0)\n",
        "print(df)"
      ],
      "metadata": {
        "colab": {
          "base_uri": "https://localhost:8080/"
        },
        "id": "qLT6ownEwLOV",
        "outputId": "840be00b-9737-4846-9204-caea1933e6d7"
      },
      "execution_count": null,
      "outputs": [
        {
          "output_type": "stream",
          "name": "stdout",
          "text": [
            "            1        2     3\n",
            "0                           \n",
            "Spark   25000  50 Days  2000\n",
            "Pandas  20000  35 Days  1000\n",
            "Java    15000      NaN   800\n",
            "Python  15000  30 Days   500\n",
            "PHP     18000  30 Days   800\n"
          ]
        }
      ]
    },
    {
      "cell_type": "code",
      "source": [
        "# 5.Read csv file by column specified with the index\n",
        "df = pd.read_csv(csv_file, header=None, usecols=[0, 1, 2])\n",
        "print(df)"
      ],
      "metadata": {
        "colab": {
          "base_uri": "https://localhost:8080/"
        },
        "id": "kOxYRxGw2H72",
        "outputId": "7d8a9302-2970-4491-a03f-766745bdb6bd"
      },
      "execution_count": null,
      "outputs": [
        {
          "output_type": "stream",
          "name": "stdout",
          "text": [
            "        0      1        2\n",
            "0   Spark  25000  50 Days\n",
            "1  Pandas  20000  35 Days\n",
            "2    Java  15000      NaN\n",
            "3  Python  15000  30 Days\n",
            "4     PHP  18000  30 Days\n"
          ]
        }
      ]
    },
    {
      "cell_type": "code",
      "source": [
        "# 6.Read csv file by convert values in the columns by defined functions\n",
        "f = lambda x: int(x) / 100\n",
        "df = pd.read_csv(csv_file, header=None, converters={3:f})\n",
        "print(df)"
      ],
      "metadata": {
        "colab": {
          "base_uri": "https://localhost:8080/"
        },
        "id": "mszS3oij4jgk",
        "outputId": "5099566b-371d-492f-ae29-a48c21687ca4"
      },
      "execution_count": null,
      "outputs": [
        {
          "output_type": "stream",
          "name": "stdout",
          "text": [
            "        0      1        2     3\n",
            "0   Spark  25000  50 Days  20.0\n",
            "1  Pandas  20000  35 Days  10.0\n",
            "2    Java  15000      NaN   8.0\n",
            "3  Python  15000  30 Days   5.0\n",
            "4     PHP  18000  30 Days   8.0\n"
          ]
        }
      ]
    },
    {
      "cell_type": "code",
      "source": [
        "# 7.Read csv file skipping rows specified with indexes\n",
        "df = pd.read_csv(csv_file, header=None, skiprows=[1, 3])\n",
        "print(df)"
      ],
      "metadata": {
        "colab": {
          "base_uri": "https://localhost:8080/"
        },
        "id": "cDjoc951Bj2L",
        "outputId": "8bcdd514-ea83-47f1-a5de-3098198b7142"
      },
      "execution_count": null,
      "outputs": [
        {
          "output_type": "stream",
          "name": "stdout",
          "text": [
            "       0      1        2     3\n",
            "0  Spark  25000  50 Days  2000\n",
            "1   Java  15000      NaN   800\n",
            "2    PHP  18000  30 Days   800\n"
          ]
        }
      ]
    },
    {
      "cell_type": "code",
      "source": [
        "# 8.Read csv file skipping even rows with lambda\n",
        "f = lambda x: (x + 1) % 2 == 0\n",
        "df = pd.read_csv(csv_file, header=None, skiprows=f)\n",
        "print(df)"
      ],
      "metadata": {
        "colab": {
          "base_uri": "https://localhost:8080/"
        },
        "id": "tqWHzkRPC4AU",
        "outputId": "0ad8be1d-6fe2-45f2-c05d-9e0f1e6d13d5"
      },
      "execution_count": null,
      "outputs": [
        {
          "output_type": "stream",
          "name": "stdout",
          "text": [
            "       0      1        2     3\n",
            "0  Spark  25000  50 Days  2000\n",
            "1   Java  15000      NaN   800\n",
            "2    PHP  18000  30 Days   800\n"
          ]
        }
      ]
    },
    {
      "cell_type": "code",
      "source": [
        "# 9.Read a csv file specifying the number of rows of the file to read\n",
        "df = pd.read_csv(csv_file, header=None, nrows=3)\n",
        "print(df)"
      ],
      "metadata": {
        "colab": {
          "base_uri": "https://localhost:8080/"
        },
        "id": "y_geR8JUE3gw",
        "outputId": "12519b91-359a-44d1-dfe7-576b0f902465"
      },
      "execution_count": null,
      "outputs": [
        {
          "output_type": "stream",
          "name": "stdout",
          "text": [
            "        0      1        2     3\n",
            "0   Spark  25000  50 Days  2000\n",
            "1  Pandas  20000  35 Days  1000\n",
            "2    Java  15000      NaN   800\n"
          ]
        }
      ]
    },
    {
      "cell_type": "code",
      "source": [
        "# 10. Read a csv file by fills NaN (missing values) with a specified value\n",
        "df = pd.read_csv(csv_file, header=None).fillna('')\n",
        "print(df)"
      ],
      "metadata": {
        "colab": {
          "base_uri": "https://localhost:8080/"
        },
        "id": "iHJ0uNqVHcLk",
        "outputId": "be494c24-b5c2-4bcc-d5ec-1f32ac8b8874"
      },
      "execution_count": null,
      "outputs": [
        {
          "output_type": "stream",
          "name": "stdout",
          "text": [
            "        0      1        2     3\n",
            "0   Spark  25000  50 Days  2000\n",
            "1  Pandas  20000  35 Days  1000\n",
            "2    Java  15000            800\n",
            "3  Python  15000  30 Days   500\n",
            "4     PHP  18000  30 Days   800\n"
          ]
        }
      ]
    }
  ]
}