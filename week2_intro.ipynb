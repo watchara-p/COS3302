{
  "nbformat": 4,
  "nbformat_minor": 0,
  "metadata": {
    "colab": {
      "name": "week2_intro.ipynb",
      "provenance": [],
      "collapsed_sections": [],
      "authorship_tag": "ABX9TyMUv8cSeEZHTaMLdAzH+MJ6",
      "include_colab_link": true
    },
    "kernelspec": {
      "name": "python3",
      "display_name": "Python 3"
    },
    "language_info": {
      "name": "python"
    },
    "accelerator": "GPU",
    "gpuClass": "standard"
  },
  "cells": [
    {
      "cell_type": "markdown",
      "metadata": {
        "id": "view-in-github",
        "colab_type": "text"
      },
      "source": [
        "<a href=\"https://colab.research.google.com/github/watchara-p/COS3302/blob/main/week2_intro.ipynb\" target=\"_parent\"><img src=\"https://colab.research.google.com/assets/colab-badge.svg\" alt=\"Open In Colab\"/></a>"
      ]
    },
    {
      "cell_type": "code",
      "execution_count": 33,
      "metadata": {
        "id": "qFvaz1pxK3ur"
      },
      "outputs": [],
      "source": [
        "import os"
      ]
    },
    {
      "cell_type": "markdown",
      "source": [
        "1. Create a code cell underneath this text cell and add code to:"
      ],
      "metadata": {
        "id": "FPyBbU-9LiWu"
      }
    },
    {
      "cell_type": "markdown",
      "source": [
        "  - List the path of the current directory (pwd)"
      ],
      "metadata": {
        "id": "yHAVLZZhP0bm"
      }
    },
    {
      "cell_type": "code",
      "source": [
        "!pwd\n",
        "print(os.getcwd())"
      ],
      "metadata": {
        "colab": {
          "base_uri": "https://localhost:8080/"
        },
        "id": "sezJCR5bL4LB",
        "outputId": "72356373-acd7-4c6b-f7a8-5882320ed6f6"
      },
      "execution_count": 34,
      "outputs": [
        {
          "output_type": "stream",
          "name": "stdout",
          "text": [
            "/\n",
            "/\n"
          ]
        }
      ]
    },
    {
      "cell_type": "markdown",
      "source": [
        "  - Go to / (cd) and list the content (ls-l) "
      ],
      "metadata": {
        "id": "g31dEsDhM4xr"
      }
    },
    {
      "cell_type": "code",
      "source": [
        "!cd /\n",
        "!ls -l\n",
        "print()\n",
        "os.chdir('/')\n",
        "print(os.listdir())"
      ],
      "metadata": {
        "colab": {
          "base_uri": "https://localhost:8080/"
        },
        "id": "PurfvHwaMou3",
        "outputId": "1c70d984-a2f3-4aeb-9356-2e28fbba62c1"
      },
      "execution_count": 35,
      "outputs": [
        {
          "output_type": "stream",
          "name": "stdout",
          "text": [
            "total 96\n",
            "drwxr-xr-x   1 root root 4096 Jul 28 13:30 bin\n",
            "drwxr-xr-x   2 root root 4096 Apr 24  2018 boot\n",
            "drwxr-xr-x   1 root root 4096 Jul 28 13:40 content\n",
            "drwxr-xr-x   1 root root 4096 Jul 28 13:57 datalab\n",
            "drwxr-xr-x   6 root root  460 Jul 31 13:26 dev\n",
            "drwxr-xr-x   1 root root 4096 Jul 31 13:26 etc\n",
            "drwxr-xr-x   2 root root 4096 Apr 24  2018 home\n",
            "drwxr-xr-x   1 root root 4096 Jul 28 13:32 lib\n",
            "drwxr-xr-x   2 root root 4096 Jul 28 13:19 lib32\n",
            "drwxr-xr-x   1 root root 4096 Jul 28 13:19 lib64\n",
            "drwxr-xr-x   2 root root 4096 Nov 19  2020 media\n",
            "drwxr-xr-x   2 root root 4096 Nov 19  2020 mnt\n",
            "drwxr-xr-x   1 root root 4096 Jul 31 13:26 opt\n",
            "dr-xr-xr-x 195 root root    0 Jul 31 13:26 proc\n",
            "drwxr-xr-x  14 root root 4096 Jul 28 13:33 python-apt\n",
            "drwx------   1 root root 4096 Jul 28 13:58 root\n",
            "drwxr-xr-x   1 root root 4096 Jul 28 13:22 run\n",
            "drwxr-xr-x   1 root root 4096 Jul 31 13:26 sbin\n",
            "drwxr-xr-x   2 root root 4096 Nov 19  2020 srv\n",
            "dr-xr-xr-x  13 root root    0 Jul 31 13:26 sys\n",
            "drwxr-xr-x   3 root root 4096 Jul 28 13:55 tensorflow-1.15.2\n",
            "drwxrwxrwt   1 root root 4096 Jul 31 13:27 tmp\n",
            "drwxr-xr-x   1 root root 4096 Jul 28 13:57 tools\n",
            "drwxr-xr-x   1 root root 4096 Jul 31 13:26 usr\n",
            "drwxr-xr-x   1 root root 4096 Jul 31 13:26 var\n",
            "\n",
            "['bin', 'boot', 'sbin', 'lib', 'var', 'media', 'dev', 'lib64', 'sys', 'home', 'root', 'proc', 'run', 'tmp', 'opt', 'etc', 'srv', 'usr', 'mnt', '.dockerenv', 'datalab', 'tools', 'tensorflow-1.15.2', 'content', 'lib32', 'python-apt']\n"
          ]
        }
      ]
    },
    {
      "cell_type": "markdown",
      "source": [
        "2. Python lists without Numpy: Print the second item in the fruits list:"
      ],
      "metadata": {
        "id": "fhcLn-CZPO72"
      }
    },
    {
      "cell_type": "code",
      "source": [
        "fruits = [\"apple\", \"banana\", \"cherry\"]\n",
        "print(fruits[1])"
      ],
      "metadata": {
        "colab": {
          "base_uri": "https://localhost:8080/"
        },
        "id": "eeqRvWrjPSi8",
        "outputId": "d780107d-0821-4be6-ce44-d3501d3079bf"
      },
      "execution_count": 36,
      "outputs": [
        {
          "output_type": "stream",
          "name": "stdout",
          "text": [
            "banana\n"
          ]
        }
      ]
    },
    {
      "cell_type": "markdown",
      "source": [
        "3. Change the value from “apple” to “kiwi”, in the fruits list:"
      ],
      "metadata": {
        "id": "Sat2RW-SQhK0"
      }
    },
    {
      "cell_type": "code",
      "source": [
        "fruits[0] = \"kiwi\"\n",
        "print(fruits)"
      ],
      "metadata": {
        "colab": {
          "base_uri": "https://localhost:8080/"
        },
        "id": "-vPdBNHEQiZ9",
        "outputId": "f71251e0-c470-4713-b34c-64aed0a501a2"
      },
      "execution_count": 37,
      "outputs": [
        {
          "output_type": "stream",
          "name": "stdout",
          "text": [
            "['kiwi', 'banana', 'cherry']\n"
          ]
        }
      ]
    },
    {
      "cell_type": "markdown",
      "source": [
        "4. Use the append method to add “orange” to the fruits list:"
      ],
      "metadata": {
        "id": "GbNdc1GFQzm3"
      }
    },
    {
      "cell_type": "code",
      "source": [
        "fruits.append(\"orange\")\n",
        "print(fruits)"
      ],
      "metadata": {
        "colab": {
          "base_uri": "https://localhost:8080/"
        },
        "id": "YOty4s7DQ0sp",
        "outputId": "6245f15c-5ef8-406b-d711-729b2049367c"
      },
      "execution_count": 38,
      "outputs": [
        {
          "output_type": "stream",
          "name": "stdout",
          "text": [
            "['kiwi', 'banana', 'cherry', 'orange']\n"
          ]
        }
      ]
    },
    {
      "cell_type": "markdown",
      "source": [
        "5. Use the insert method to add “lemon” as the second item in the fruits list:"
      ],
      "metadata": {
        "id": "aCmWyHGPRD3w"
      }
    },
    {
      "cell_type": "code",
      "source": [
        "fruits.insert(1, \"lemon\")\n",
        "print(fruits)"
      ],
      "metadata": {
        "colab": {
          "base_uri": "https://localhost:8080/"
        },
        "id": "sUH6Y4nfRC5b",
        "outputId": "30692729-fa5c-4bf2-bcb7-9f0829000b22"
      },
      "execution_count": 39,
      "outputs": [
        {
          "output_type": "stream",
          "name": "stdout",
          "text": [
            "['kiwi', 'lemon', 'banana', 'cherry', 'orange']\n"
          ]
        }
      ]
    },
    {
      "cell_type": "markdown",
      "source": [
        "6. Use the remove method to delete “banana” from the fruits list:"
      ],
      "metadata": {
        "id": "pkPHGbE3RV4y"
      }
    },
    {
      "cell_type": "code",
      "source": [
        "fruits.remove(\"banana\")\n",
        "print(fruits)"
      ],
      "metadata": {
        "colab": {
          "base_uri": "https://localhost:8080/"
        },
        "id": "5xwQnxmURX1s",
        "outputId": "16a2d7ee-8c2b-4154-c08d-ec9f12b39774"
      },
      "execution_count": 40,
      "outputs": [
        {
          "output_type": "stream",
          "name": "stdout",
          "text": [
            "['kiwi', 'lemon', 'cherry', 'orange']\n"
          ]
        }
      ]
    },
    {
      "cell_type": "markdown",
      "source": [
        "7. Python If…Else: Print “Hello World” if a is greater than b:"
      ],
      "metadata": {
        "id": "R0_qJplZRnwK"
      }
    },
    {
      "cell_type": "code",
      "source": [
        "a = 50\n",
        "b = 10\n",
        "c = 20\n",
        "d = 20\n",
        "if a > b:\n",
        "  print(\"Hello World\")"
      ],
      "metadata": {
        "colab": {
          "base_uri": "https://localhost:8080/"
        },
        "id": "jfp52KerR4Su",
        "outputId": "e36a7218-9006-49dd-9e16-13ba25cbd949"
      },
      "execution_count": 41,
      "outputs": [
        {
          "output_type": "stream",
          "name": "stdout",
          "text": [
            "Hello World\n"
          ]
        }
      ]
    },
    {
      "cell_type": "markdown",
      "source": [
        "8. Print “Hello World” if a is not equal to b:"
      ],
      "metadata": {
        "id": "afk8bV3bSYy4"
      }
    },
    {
      "cell_type": "code",
      "source": [
        "if a != b:\n",
        "  print(\"Hello World\")"
      ],
      "metadata": {
        "colab": {
          "base_uri": "https://localhost:8080/"
        },
        "id": "4_bJtexfSaBA",
        "outputId": "4a1f2493-a52a-4685-9c0f-9b2d318742c8"
      },
      "execution_count": 42,
      "outputs": [
        {
          "output_type": "stream",
          "name": "stdout",
          "text": [
            "Hello World\n"
          ]
        }
      ]
    },
    {
      "cell_type": "markdown",
      "source": [
        "9. Print “Yes” if a is equal to b, otherwise print “No”:"
      ],
      "metadata": {
        "id": "22TC_Nr_SnPH"
      }
    },
    {
      "cell_type": "code",
      "source": [
        "if a == b:\n",
        "  print(\"Yes\")\n",
        "else:\n",
        "  print(\"No\")"
      ],
      "metadata": {
        "colab": {
          "base_uri": "https://localhost:8080/"
        },
        "id": "8t6Rci3YSoP3",
        "outputId": "d129c408-7b46-4a3f-828c-510a9071077a"
      },
      "execution_count": 43,
      "outputs": [
        {
          "output_type": "stream",
          "name": "stdout",
          "text": [
            "No\n"
          ]
        }
      ]
    },
    {
      "cell_type": "markdown",
      "source": [
        "10. Print “1” if a is equal to b, print “2” if a is greater than b, otherwise print “3”:"
      ],
      "metadata": {
        "id": "9zGJBAT8S4cS"
      }
    },
    {
      "cell_type": "code",
      "source": [
        "if a == b:\n",
        "  print(\"1\")\n",
        "elif a > b:\n",
        "  print(\"2\")\n",
        "else:\n",
        "  print(\"3\")"
      ],
      "metadata": {
        "colab": {
          "base_uri": "https://localhost:8080/"
        },
        "id": "p4YtGHSiS869",
        "outputId": "7d5afb83-7d36-4f64-9575-15f6356de21b"
      },
      "execution_count": 44,
      "outputs": [
        {
          "output_type": "stream",
          "name": "stdout",
          "text": [
            "2\n"
          ]
        }
      ]
    },
    {
      "cell_type": "markdown",
      "source": [
        "11. Print “Hello” if a is equal to b, and c is equal to d:"
      ],
      "metadata": {
        "id": "DgWxudSlTTgi"
      }
    },
    {
      "cell_type": "code",
      "source": [
        "if a == b and c == d:\n",
        "  print(\"Hello\")"
      ],
      "metadata": {
        "id": "SpcRHE26TUkF"
      },
      "execution_count": 45,
      "outputs": []
    },
    {
      "cell_type": "markdown",
      "source": [
        "12. Print “Hello” if either a is equal to b, or c is equal to d:"
      ],
      "metadata": {
        "id": "7Emj2_0ITwbL"
      }
    },
    {
      "cell_type": "code",
      "source": [
        "if a == b or c == d:\n",
        "  print(\"Hello\")"
      ],
      "metadata": {
        "colab": {
          "base_uri": "https://localhost:8080/"
        },
        "id": "p64c3HIuT8cT",
        "outputId": "7c4c8ebc-a2f5-47c8-d9cf-77d237526dca"
      },
      "execution_count": 46,
      "outputs": [
        {
          "output_type": "stream",
          "name": "stdout",
          "text": [
            "Hello\n"
          ]
        }
      ]
    },
    {
      "cell_type": "markdown",
      "source": [
        "13. Python Loops: Print i as long as i is less than 6:"
      ],
      "metadata": {
        "id": "gUQjrrRBUPMp"
      }
    },
    {
      "cell_type": "code",
      "source": [
        "for i in range(6):\n",
        "  print(i)"
      ],
      "metadata": {
        "colab": {
          "base_uri": "https://localhost:8080/"
        },
        "id": "FPQLm22CUq2T",
        "outputId": "84ee8478-9b9c-4b7d-92b5-d87a29fddd47"
      },
      "execution_count": 47,
      "outputs": [
        {
          "output_type": "stream",
          "name": "stdout",
          "text": [
            "0\n",
            "1\n",
            "2\n",
            "3\n",
            "4\n",
            "5\n"
          ]
        }
      ]
    },
    {
      "cell_type": "markdown",
      "source": [
        "14. From #13 stop the loop if i is 3:"
      ],
      "metadata": {
        "id": "R2lK5zWRVNaT"
      }
    },
    {
      "cell_type": "code",
      "source": [
        "for i in range(6):\n",
        "  print(i)\n",
        "  if i == 3:\n",
        "    break"
      ],
      "metadata": {
        "colab": {
          "base_uri": "https://localhost:8080/"
        },
        "id": "4OYkLfmmVP-f",
        "outputId": "f09a5f32-a3f0-43e6-f772-919ca8b1405b"
      },
      "execution_count": 48,
      "outputs": [
        {
          "output_type": "stream",
          "name": "stdout",
          "text": [
            "0\n",
            "1\n",
            "2\n",
            "3\n"
          ]
        }
      ]
    }
  ]
}